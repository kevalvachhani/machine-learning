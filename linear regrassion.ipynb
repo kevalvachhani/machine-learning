{
 "cells": [
  {
   "cell_type": "code",
   "execution_count": 1,
   "id": "5b35438c",
   "metadata": {},
   "outputs": [],
   "source": [
    "import matplotlib.pyplot as plt\n",
    "import numpy as np\n",
    "from sklearn import datasets,linear_model\n",
    "from sklearn.metrics import mean_squared_error"
   ]
  },
  {
   "cell_type": "code",
   "execution_count": 2,
   "id": "a18224f8",
   "metadata": {},
   "outputs": [],
   "source": [
    "diabetes=datasets.load_diabetes()\n",
    "# print(diabetes)\n",
    "# ['data', 'target', 'frame', 'DESCR', 'feature_names', 'data_filename', 'target_filename', 'data_module']\n",
    "# print(diabetes.keys())\n",
    "# print(diabetes.data)"
   ]
  },
  {
   "cell_type": "code",
   "execution_count": 3,
   "id": "3083b23c",
   "metadata": {},
   "outputs": [],
   "source": [
    "# diabetes_x=diabetes.data[:,np.newaxis,2]  \n",
    "#for print plot one feature use\n",
    "diabetes_x=diabetes.data  #all features use\n",
    "# print(diabetes_x)\n"
   ]
  },
  {
   "cell_type": "code",
   "execution_count": 4,
   "id": "d3569be7",
   "metadata": {},
   "outputs": [],
   "source": [
    "diabetes_x_train=diabetes_x[:-30]\n",
    "diabetes_x_test=diabetes_x[-30:]\n",
    "\n",
    "diabetes_y_train=diabetes.target[:-30]\n",
    "diabetes_y_test = diabetes.target[-30:]\n",
    "\n",
    "# print(diabetes_x_train)\n",
    "# print(diabetes_x_test)"
   ]
  },
  {
   "cell_type": "code",
   "execution_count": 5,
   "id": "ebb6d25a",
   "metadata": {},
   "outputs": [
    {
     "name": "stdout",
     "output_type": "stream",
     "text": [
      "1826.4841712795046\n",
      "[  -1.16678648 -237.18123633  518.31283524  309.04204042 -763.10835067\n",
      "  458.88378916   80.61107395  174.31796962  721.48087773   79.1952801 ]\n",
      "153.05824267739402\n"
     ]
    }
   ],
   "source": [
    "model=linear_model.LinearRegression()\n",
    "model.fit(diabetes_x_train,diabetes_y_train)\n",
    "diabetes_y_predicted=model.predict(diabetes_x_test)\n",
    "print(mean_squared_error(diabetes_y_test,diabetes_y_predicted))\n",
    "print(model.coef_)\n",
    "print(model.intercept_)"
   ]
  },
  {
   "cell_type": "code",
   "execution_count": 6,
   "id": "dad6e1f5",
   "metadata": {},
   "outputs": [],
   "source": [
    "# use for only one feature\n",
    "# plt.scatter(diabetes_x_test,diabetes_y_test)\n",
    "# plt.plot(diabetes_x_test,diabetes_y_predicted)\n",
    "# plt.show()\n"
   ]
  },
  {
   "cell_type": "code",
   "execution_count": null,
   "id": "6850f646",
   "metadata": {},
   "outputs": [],
   "source": []
  }
 ],
 "metadata": {
  "kernelspec": {
   "display_name": "Python 3 (ipykernel)",
   "language": "python",
   "name": "python3"
  },
  "language_info": {
   "codemirror_mode": {
    "name": "ipython",
    "version": 3
   },
   "file_extension": ".py",
   "mimetype": "text/x-python",
   "name": "python",
   "nbconvert_exporter": "python",
   "pygments_lexer": "ipython3",
   "version": "3.10.5"
  }
 },
 "nbformat": 4,
 "nbformat_minor": 5
}
