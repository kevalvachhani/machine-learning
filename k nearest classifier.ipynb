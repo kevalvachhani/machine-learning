{
 "cells": [
  {
   "cell_type": "code",
   "execution_count": 5,
   "id": "06a12fb7",
   "metadata": {},
   "outputs": [],
   "source": [
    "from sklearn import datasets\n",
    "from sklearn.neighbors import KNeighborsClassifier\n"
   ]
  },
  {
   "cell_type": "code",
   "execution_count": 3,
   "id": "1771e33b",
   "metadata": {},
   "outputs": [
    {
     "name": "stdout",
     "output_type": "stream",
     "text": [
      "[5.1 3.5 1.4 0.2] 0\n"
     ]
    }
   ],
   "source": [
    "# load datasets\n",
    "# print(iris.DESCR)\n",
    "iris = datasets.load_iris()\n",
    "features=iris.data\n",
    "labels=iris.target\n",
    "print(features[0],labels[0])"
   ]
  },
  {
   "cell_type": "code",
   "execution_count": 7,
   "id": "d743142c",
   "metadata": {},
   "outputs": [
    {
     "name": "stdout",
     "output_type": "stream",
     "text": [
      "[2]\n"
     ]
    }
   ],
   "source": [
    "# tarining datasets\n",
    "clf = KNeighborsClassifier()\n",
    "clf.fit(features,labels)\n",
    "\n",
    "preds=clf.predict([[31,1,1,1]])\n",
    "print(preds)"
   ]
  },
  {
   "cell_type": "code",
   "execution_count": null,
   "id": "c577f45e",
   "metadata": {},
   "outputs": [],
   "source": []
  }
 ],
 "metadata": {
  "kernelspec": {
   "display_name": "Python 3 (ipykernel)",
   "language": "python",
   "name": "python3"
  },
  "language_info": {
   "codemirror_mode": {
    "name": "ipython",
    "version": 3
   },
   "file_extension": ".py",
   "mimetype": "text/x-python",
   "name": "python",
   "nbconvert_exporter": "python",
   "pygments_lexer": "ipython3",
   "version": "3.10.5"
  }
 },
 "nbformat": 4,
 "nbformat_minor": 5
}
